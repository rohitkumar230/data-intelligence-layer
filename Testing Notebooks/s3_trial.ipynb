{
 "cells": [
  {
   "cell_type": "code",
   "execution_count": 1,
   "metadata": {},
   "outputs": [
    {
     "name": "stderr",
     "output_type": "stream",
     "text": [
      "/Users/rohit.kumar/Desktop/AI_and_Automation/dna-data-intelligence-playground/Data Access Layer/utils.py:132: LangChainDeprecationWarning: The class `BedrockChat` was deprecated in LangChain 0.0.34 and will be removed in 1.0. An updated version of the class exists in the :class:`~langchain-aws package and should be used instead. To use it run `pip install -U :class:`~langchain-aws` and import as `from :class:`~langchain_aws import ChatBedrock``.\n",
      "  model = BedrockChat(\n"
     ]
    }
   ],
   "source": [
    "import boto3\n",
    "import pandas as pd\n",
    "import io\n",
    "from s3_fetcher import S3DataFetcher"
   ]
  },
  {
   "cell_type": "code",
   "execution_count": 2,
   "metadata": {},
   "outputs": [],
   "source": [
    "def parse_s3_path(s3_path: str):\n",
    "    \"\"\"\n",
    "    Parses an S3 path of the form 's3://bucket-name/path/to/folder'\n",
    "    into bucket and prefix.\n",
    "    \"\"\"\n",
    "    if not s3_path.startswith(\"s3://\"):\n",
    "        raise ValueError(\"S3 path must start with 's3://'\")\n",
    "    path_without_scheme = s3_path[len(\"s3://\"):]\n",
    "    parts = path_without_scheme.split(\"/\", 1)\n",
    "    bucket = parts[0]\n",
    "    prefix = parts[1] if len(parts) > 1 else \"\"\n",
    "    return bucket, prefix"
   ]
  },
  {
   "cell_type": "code",
   "execution_count": 3,
   "metadata": {},
   "outputs": [
    {
     "name": "stdout",
     "output_type": "stream",
     "text": [
      "Bucket: prod-ai-and-automation\n",
      "Prefix: usecase_CTVCopilot/BI/\n"
     ]
    }
   ],
   "source": [
    "# S3 folder path.\n",
    "s3_folder_path = \"s3://prod-ai-and-automation/usecase_CTVCopilot/BI/\"\n",
    "bucket_name, prefix = parse_s3_path(s3_folder_path)\n",
    "print(\"Bucket:\", bucket_name)\n",
    "print(\"Prefix:\", prefix)"
   ]
  },
  {
   "cell_type": "code",
   "execution_count": 4,
   "metadata": {},
   "outputs": [
    {
     "name": "stdout",
     "output_type": "stream",
     "text": [
      "\n",
      "Found 15 objects under 's3://prod-ai-and-automation/usecase_CTVCopilot/BI/':\n",
      " - usecase_CTVCopilot/BI/_SUCCESS\n",
      " - usecase_CTVCopilot/BI/_committed_4837909289728916165\n",
      " - usecase_CTVCopilot/BI/_committed_6367247307692206839\n",
      " - usecase_CTVCopilot/BI/_committed_6975755882774218683\n",
      " - usecase_CTVCopilot/BI/_committed_7913142500625727807\n",
      " - usecase_CTVCopilot/BI/_committed_vacuum2396813374514155360\n",
      " - usecase_CTVCopilot/BI/_started_4837909289728916165\n",
      " - usecase_CTVCopilot/BI/part-00000-tid-4837909289728916165-5ea6c318-c143-46a7-81aa-53e280c72c4a-739-1-c000.snappy.parquet\n",
      " - usecase_CTVCopilot/BI/part-00001-tid-4837909289728916165-5ea6c318-c143-46a7-81aa-53e280c72c4a-740-1-c000.snappy.parquet\n",
      " - usecase_CTVCopilot/BI/part-00002-tid-4837909289728916165-5ea6c318-c143-46a7-81aa-53e280c72c4a-741-1-c000.snappy.parquet\n",
      " - usecase_CTVCopilot/BI/part-00003-tid-4837909289728916165-5ea6c318-c143-46a7-81aa-53e280c72c4a-742-1-c000.snappy.parquet\n",
      " - usecase_CTVCopilot/BI/part-00004-tid-4837909289728916165-5ea6c318-c143-46a7-81aa-53e280c72c4a-743-1-c000.snappy.parquet\n",
      " - usecase_CTVCopilot/BI/part-00005-tid-4837909289728916165-5ea6c318-c143-46a7-81aa-53e280c72c4a-744-1-c000.snappy.parquet\n",
      " - usecase_CTVCopilot/BI/part-00006-tid-4837909289728916165-5ea6c318-c143-46a7-81aa-53e280c72c4a-745-1-c000.snappy.parquet\n",
      " - usecase_CTVCopilot/BI/part-00007-tid-4837909289728916165-5ea6c318-c143-46a7-81aa-53e280c72c4a-746-1-c000.snappy.parquet\n"
     ]
    }
   ],
   "source": [
    "s3 = boto3.client('s3')\n",
    "paginator = s3.get_paginator('list_objects_v2')\n",
    "object_keys = []\n",
    "for page in paginator.paginate(Bucket=bucket_name, Prefix=prefix):\n",
    "    for obj in page.get('Contents', []):\n",
    "        object_keys.append(obj['Key'])\n",
    "\n",
    "print(f\"\\nFound {len(object_keys)} objects under '{s3_folder_path}':\")\n",
    "for key in object_keys:\n",
    "    print(\" -\", key)"
   ]
  },
  {
   "cell_type": "code",
   "execution_count": 5,
   "metadata": {},
   "outputs": [
    {
     "name": "stdout",
     "output_type": "stream",
     "text": [
      "Sample rows from file:\n",
      "     DSP      Period  Client_ID                          Client  \\\n",
      "0  yahoo  2024-01-01       3804                         MBMG-LA   \n",
      "1  yahoo  2024-01-01       3804                         MBMG-LA   \n",
      "2  dv360  2024-03-01         76                  LMO - Virginia   \n",
      "3    ttd  2024-01-01        638  Time and Space Media - Halifax   \n",
      "4    ttd  2024-01-01       1274                 iprospect (Van)   \n",
      "\n",
      "               Agency           SF_Adv_ID                SF_Adv  Lab_Adv_ID  \\\n",
      "0             MBMG-LA  a0r1v00001Ovv0JAAR  Keck Medicine of USC       14017   \n",
      "1             MBMG-LA  a0r1v00001Ovv0JAAR  Keck Medicine of USC       14017   \n",
      "2                 LMO  a0r0Y00000ZHarDQAT           Coast Guard        2069   \n",
      "3  Time + Space Media  a0r1v00001MIaBQAA1    Medavie Blue Cross       11981   \n",
      "4           Iprospect  a0r1v00001I5GB2AAN      BC Liquor Stores       10612   \n",
      "\n",
      "                Lab_Adv DSP_Adv_ID  \\\n",
      "0  Keck Medicine of USC   14625301   \n",
      "1  Keck Medicine of USC   13518311   \n",
      "2           Coast Guard    1678731   \n",
      "3    Medavie Blue Cross    bf0oz35   \n",
      "4      BC Liquor Stores    zda9edb   \n",
      "\n",
      "                                             DSP_Adv   DSP_IO_ID  \\\n",
      "0  Keck Medicine_Display_FY23 Overarching Cancer ...      569211   \n",
      "1  Keck Medicine_Display_FY23 Lung Cancer-MiQ-7/1...      592531   \n",
      "2                                Coast Guard c/o LMO  1010335384   \n",
      "3     CA - Medavie Blue Cross c.o Time & Space Media     68oyv4e   \n",
      "4  CA - BC Liquor c.o iProspect Vancouver West Co...     jp5l61k   \n",
      "\n",
      "                                         DSP_IO_Name  SF_IO_Line_Item_ID  \\\n",
      "0                    3a USC OA Cancer FY23 - Display  a0PP4000005XOyPMAW   \n",
      "1                  6a USC Tumor Lung FY23  - Display  a0PP400000447OnMAI   \n",
      "2    Coast Guard - Lead Gen FY23 - Women - PPG - New  a0PP4000004EgJlMAK   \n",
      "3  MedaVie - Health Insurance Campaign 23 - ATL C...  a0PP4000003JKe6MAG   \n",
      "4  BC Liquor - CA - Nov 12 - Mar 31 - Awareness 2...  a0PP4000000YhfGMAS   \n",
      "\n",
      "                                     SF_IO_Line_Item SF_Start_Date  \\\n",
      "0  MiQ_MBMG_Keck Medicine of USC_FY23 Overarching...    2023-05-10   \n",
      "1  MiQ_MBMG_Keck Medicine of USC_FY23 Lung Cancer...    2023-07-17   \n",
      "2              MiQ_LMO_USCG FY24_Lead Gen_Display_Q1    2023-10-01   \n",
      "3                                    OLV_EN_Flight 2    2023-10-02   \n",
      "4                                     Video Pre-Roll    2023-10-31   \n",
      "\n",
      "  SF_End_Date SF_Country  \n",
      "0  2024-01-31        USA  \n",
      "1  2024-01-31        USA  \n",
      "2  2024-09-30        USA  \n",
      "3  2024-02-04     Canada  \n",
      "4  2024-02-12     Canada  \n"
     ]
    }
   ],
   "source": [
    "sample_key = \"usecase_CTVCopilot/BI/part-00000-tid-4837909289728916165-5ea6c318-c143-46a7-81aa-53e280c72c4a-739-1-c000.snappy.parquet\" \n",
    "\n",
    "fetcher = S3DataFetcher()\n",
    "\n",
    "try:\n",
    "    df_sample = fetcher.sample_rows(bucket_name, sample_key, num_rows=5)\n",
    "    print(\"Sample rows from file:\")\n",
    "    print(df_sample)\n",
    "except Exception as e:\n",
    "    print(f\"Error sampling rows from '{sample_key}': {e}\")"
   ]
  },
  {
   "cell_type": "code",
   "execution_count": 6,
   "metadata": {},
   "outputs": [
    {
     "name": "stdout",
     "output_type": "stream",
     "text": [
      "Column information:\n",
      "|-- DSP: object (nullable = false)\n",
      "|-- Period: object (nullable = false)\n",
      "|-- Client_ID: int64 (nullable = false)\n",
      "|-- Client: object (nullable = false)\n",
      "|-- Agency: object (nullable = false)\n",
      "|-- SF_Adv_ID: object (nullable = false)\n",
      "|-- SF_Adv: object (nullable = false)\n",
      "|-- Lab_Adv_ID: int64 (nullable = false)\n",
      "|-- Lab_Adv: object (nullable = false)\n",
      "|-- DSP_Adv_ID: object (nullable = false)\n",
      "|-- DSP_Adv: object (nullable = false)\n",
      "|-- DSP_IO_ID: object (nullable = false)\n",
      "|-- DSP_IO_Name: object (nullable = false)\n",
      "|-- SF_IO_Line_Item_ID: object (nullable = false)\n",
      "|-- SF_IO_Line_Item: object (nullable = false)\n",
      "|-- SF_Start_Date: object (nullable = false)\n",
      "|-- SF_End_Date: object (nullable = false)\n",
      "|-- SF_Country: object (nullable = false)\n",
      "\n"
     ]
    }
   ],
   "source": [
    "# List column metadata using json conversion\n",
    "try:\n",
    "    columns_info = fetcher.list_columns_in_file(bucket_name, sample_key)\n",
    "    print(\"Column information:\")\n",
    "    print(columns_info)\n",
    "except Exception as e:\n",
    "    print(f\"Error listing columns for '{sample_key}': {e}\")"
   ]
  },
  {
   "cell_type": "code",
   "execution_count": null,
   "metadata": {},
   "outputs": [],
   "source": []
  }
 ],
 "metadata": {
  "kernelspec": {
   "display_name": "myenv",
   "language": "python",
   "name": "python3"
  },
  "language_info": {
   "codemirror_mode": {
    "name": "ipython",
    "version": 3
   },
   "file_extension": ".py",
   "mimetype": "text/x-python",
   "name": "python",
   "nbconvert_exporter": "python",
   "pygments_lexer": "ipython3",
   "version": "3.10.16"
  }
 },
 "nbformat": 4,
 "nbformat_minor": 2
}
