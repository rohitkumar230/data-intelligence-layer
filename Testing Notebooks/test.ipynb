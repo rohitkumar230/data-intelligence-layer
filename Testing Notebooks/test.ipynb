{
 "cells": [
  {
   "cell_type": "code",
   "execution_count": 1,
   "metadata": {},
   "outputs": [],
   "source": [
    "import requests\n",
    "import json\n",
    "from dotenv import load_dotenv\n",
    "import os\n",
    "import pandas as pd\n",
    "from io import StringIO"
   ]
  },
  {
   "cell_type": "markdown",
   "metadata": {},
   "source": [
    "# API URL"
   ]
  },
  {
   "cell_type": "code",
   "execution_count": 2,
   "metadata": {},
   "outputs": [],
   "source": [
    "load_dotenv(\"configs/configs.env\")  # take environment variables from .env.\n",
    "url = \"https://api-gateway.prod.miqdigital.com/dna_data_intelligence/dip\"\n",
    "\n",
    "API_GATEWAY_TOKEN = os.environ[\"API_GATEWAY_TOKEN\"]\n",
    "headers = {\n",
    "  'api-gateway-token': API_GATEWAY_TOKEN\n",
    "}"
   ]
  },
  {
   "cell_type": "code",
   "execution_count": 3,
   "metadata": {},
   "outputs": [],
   "source": [
    "json_input = {\n",
    "\t\"s3_uri\": {\n",
    "\t\t\"uri\": \"s3://prod-ai-and-automation/Ajay/gameontaptest/\"\n",
    "\t},\n",
    "\t\"query\": {\n",
    "\t\t\"query\": \"What is the market scenario for Carlsberg?\"\n",
    "\t},\n",
    "\t\"uu_id\": {\n",
    "\t\t\"uu_id\": \"gameontaptesting_qa\"\n",
    "\t}\n",
    "}\n",
    "\n",
    "json_output = json.dumps(json_input, indent=4)\n"
   ]
  },
  {
   "cell_type": "code",
   "execution_count": 4,
   "metadata": {},
   "outputs": [],
   "source": [
    "response = requests.request(\"POST\", url, headers=headers, data=json_output)\n",
    "response = response.json()"
   ]
  },
  {
   "cell_type": "code",
   "execution_count": 5,
   "metadata": {},
   "outputs": [
    {
     "data": {
      "text/html": [
       "<div>\n",
       "<style scoped>\n",
       "    .dataframe tbody tr th:only-of-type {\n",
       "        vertical-align: middle;\n",
       "    }\n",
       "\n",
       "    .dataframe tbody tr th {\n",
       "        vertical-align: top;\n",
       "    }\n",
       "\n",
       "    .dataframe thead th {\n",
       "        text-align: right;\n",
       "    }\n",
       "</style>\n",
       "<table border=\"1\" class=\"dataframe\">\n",
       "  <thead>\n",
       "    <tr style=\"text-align: right;\">\n",
       "      <th></th>\n",
       "    </tr>\n",
       "  </thead>\n",
       "  <tbody>\n",
       "  </tbody>\n",
       "</table>\n",
       "</div>"
      ],
      "text/plain": [
       "Empty DataFrame\n",
       "Columns: []\n",
       "Index: []"
      ]
     },
     "metadata": {},
     "output_type": "display_data"
    },
    {
     "name": "stdout",
     "output_type": "stream",
     "text": [
      "COMMENTARY :  I apologize, but I cannot provide any insights based on the given information. The JSON data that was meant to be provided is empty ({}), so there is no actual data to analyze regarding Carlsberg's market scenario. Without specific data points about Carlsberg's market performance, sales, competitors, or other relevant metrics, it's not possible to offer any meaningful insights.\n"
     ]
    }
   ],
   "source": [
    "df = pd.read_json(StringIO(response[\"result_df\"]))\n",
    "display(df)\n",
    "print(\"COMMENTARY : \", response[\"commentary\"])"
   ]
  },
  {
   "cell_type": "markdown",
   "metadata": {},
   "source": [
    "## JSON Request Structure\n",
    "\n",
    "### Query : What would be the reach of an audience segment having attributes like carlsberg brand, pubg game, and genre as rolePlaying in US and UK countries?"
   ]
  },
  {
   "cell_type": "code",
   "execution_count": 6,
   "metadata": {},
   "outputs": [],
   "source": [
    "json_input = {\n",
    "\t\"s3_uri\": {\n",
    "\t\t\"uri\": \"s3://prod-ai-and-automation/Ajay/gameontaptest/\"\n",
    "\t},\n",
    "\t\"query\": {\n",
    "\t\t\"query\": \"what would be the reach of an audience segment having attributes like carlsberg brand, pubg game, and genre as rolePlaying in US and UK countries?\"\n",
    "\t},\n",
    "\t\"uu_id\": {\n",
    "\t\t\"uu_id\": \"gameontaptesting\"\n",
    "\t}\n",
    "}\n",
    "\n",
    "json_output = json.dumps(json_input, indent=4)\n"
   ]
  },
  {
   "cell_type": "code",
   "execution_count": 7,
   "metadata": {},
   "outputs": [],
   "source": [
    "response = requests.request(\"POST\", url, headers=headers, data=json_output)\n",
    "response = response.json()"
   ]
  },
  {
   "cell_type": "markdown",
   "metadata": {},
   "source": [
    "## Response\n",
    "\n",
    "### Commentary : Based on the data provided, the reach for the audience segment with Carlsberg brand, PUBG game, and rolePlaying genre is 685,835 in the US and 1,212,102 in the UK. This indicates a significantly larger potential audience in the UK compared to the US for this specific combination of attributes, with the UK reach being nearly twice that of the US."
   ]
  },
  {
   "cell_type": "code",
   "execution_count": 8,
   "metadata": {},
   "outputs": [
    {
     "data": {
      "text/html": [
       "<div>\n",
       "<style scoped>\n",
       "    .dataframe tbody tr th:only-of-type {\n",
       "        vertical-align: middle;\n",
       "    }\n",
       "\n",
       "    .dataframe tbody tr th {\n",
       "        vertical-align: top;\n",
       "    }\n",
       "\n",
       "    .dataframe thead th {\n",
       "        text-align: right;\n",
       "    }\n",
       "</style>\n",
       "<table border=\"1\" class=\"dataframe\">\n",
       "  <thead>\n",
       "    <tr style=\"text-align: right;\">\n",
       "      <th></th>\n",
       "      <th>brand</th>\n",
       "      <th>game</th>\n",
       "      <th>genre</th>\n",
       "      <th>country</th>\n",
       "      <th>reach</th>\n",
       "      <th>interest</th>\n",
       "    </tr>\n",
       "  </thead>\n",
       "  <tbody>\n",
       "    <tr>\n",
       "      <th>0</th>\n",
       "      <td>carlsberg</td>\n",
       "      <td>pubg</td>\n",
       "      <td>rolePlaying</td>\n",
       "      <td>US</td>\n",
       "      <td>685835</td>\n",
       "      <td>Role-playing games,\\nBattle royale games,\\nTec...</td>\n",
       "    </tr>\n",
       "    <tr>\n",
       "      <th>6</th>\n",
       "      <td>carlsberg</td>\n",
       "      <td>pubg</td>\n",
       "      <td>rolePlaying</td>\n",
       "      <td>UK</td>\n",
       "      <td>1212102</td>\n",
       "      <td>Role Playing Games',\\n'Craft Beer Brewing',\\n'...</td>\n",
       "    </tr>\n",
       "  </tbody>\n",
       "</table>\n",
       "</div>"
      ],
      "text/plain": [
       "       brand  game        genre country    reach  \\\n",
       "0  carlsberg  pubg  rolePlaying      US   685835   \n",
       "6  carlsberg  pubg  rolePlaying      UK  1212102   \n",
       "\n",
       "                                            interest  \n",
       "0  Role-playing games,\\nBattle royale games,\\nTec...  \n",
       "6  Role Playing Games',\\n'Craft Beer Brewing',\\n'...  "
      ]
     },
     "metadata": {},
     "output_type": "display_data"
    },
    {
     "name": "stdout",
     "output_type": "stream",
     "text": [
      "COMMENTARY :  Based on the data provided, the reach for the audience segment with Carlsberg brand, PUBG game, and rolePlaying genre is 685,835 in the US and 1,212,102 in the UK. This indicates a significantly larger potential audience in the UK compared to the US for this specific combination of attributes, with the UK reach being nearly twice that of the US.\n"
     ]
    }
   ],
   "source": [
    "df = pd.read_json(StringIO(response[\"result_df\"]))\n",
    "display(df)\n",
    "print(\"COMMENTARY : \", response[\"commentary\"])"
   ]
  },
  {
   "cell_type": "code",
   "execution_count": null,
   "metadata": {},
   "outputs": [],
   "source": []
  },
  {
   "cell_type": "code",
   "execution_count": 1,
   "metadata": {},
   "outputs": [
    {
     "name": "stdout",
     "output_type": "stream",
     "text": [
      "Total time taken: 26.80 seconds\n"
     ]
    },
    {
     "data": {
      "text/html": [
       "<div>\n",
       "<style scoped>\n",
       "    .dataframe tbody tr th:only-of-type {\n",
       "        vertical-align: middle;\n",
       "    }\n",
       "\n",
       "    .dataframe tbody tr th {\n",
       "        vertical-align: top;\n",
       "    }\n",
       "\n",
       "    .dataframe thead th {\n",
       "        text-align: right;\n",
       "    }\n",
       "</style>\n",
       "<table border=\"1\" class=\"dataframe\">\n",
       "  <thead>\n",
       "    <tr style=\"text-align: right;\">\n",
       "      <th></th>\n",
       "      <th>day_of_week</th>\n",
       "      <th>ctr</th>\n",
       "    </tr>\n",
       "  </thead>\n",
       "  <tbody>\n",
       "    <tr>\n",
       "      <th>1</th>\n",
       "      <td>Monday</td>\n",
       "      <td>0.000000</td>\n",
       "    </tr>\n",
       "    <tr>\n",
       "      <th>5</th>\n",
       "      <td>Tuesday</td>\n",
       "      <td>0.000000</td>\n",
       "    </tr>\n",
       "    <tr>\n",
       "      <th>6</th>\n",
       "      <td>Wednesday</td>\n",
       "      <td>0.000013</td>\n",
       "    </tr>\n",
       "    <tr>\n",
       "      <th>4</th>\n",
       "      <td>Thursday</td>\n",
       "      <td>0.000018</td>\n",
       "    </tr>\n",
       "    <tr>\n",
       "      <th>0</th>\n",
       "      <td>Friday</td>\n",
       "      <td>0.000000</td>\n",
       "    </tr>\n",
       "    <tr>\n",
       "      <th>2</th>\n",
       "      <td>Saturday</td>\n",
       "      <td>0.000000</td>\n",
       "    </tr>\n",
       "    <tr>\n",
       "      <th>3</th>\n",
       "      <td>Sunday</td>\n",
       "      <td>0.000022</td>\n",
       "    </tr>\n",
       "  </tbody>\n",
       "</table>\n",
       "</div>"
      ],
      "text/plain": [
       "  day_of_week       ctr\n",
       "1      Monday  0.000000\n",
       "5     Tuesday  0.000000\n",
       "6   Wednesday  0.000013\n",
       "4    Thursday  0.000018\n",
       "0      Friday  0.000000\n",
       "2    Saturday  0.000000\n",
       "3      Sunday  0.000022"
      ]
     },
     "metadata": {},
     "output_type": "display_data"
    },
    {
     "name": "stdout",
     "output_type": "stream",
     "text": [
      "COMMENTARY for request 1: The data shows Click-Through Rates (CTR) for each day of the week. Wednesday, Thursday, and Sunday have very low but non-zero CTRs, with Sunday having the highest at 0.000022099. Interestingly, Monday, Tuesday, Friday, and Saturday all show CTRs of 0, indicating no clicks on those days relative to impressions.\n"
     ]
    },
    {
     "data": {
      "text/html": [
       "<div>\n",
       "<style scoped>\n",
       "    .dataframe tbody tr th:only-of-type {\n",
       "        vertical-align: middle;\n",
       "    }\n",
       "\n",
       "    .dataframe tbody tr th {\n",
       "        vertical-align: top;\n",
       "    }\n",
       "\n",
       "    .dataframe thead th {\n",
       "        text-align: right;\n",
       "    }\n",
       "</style>\n",
       "<table border=\"1\" class=\"dataframe\">\n",
       "  <thead>\n",
       "    <tr style=\"text-align: right;\">\n",
       "      <th></th>\n",
       "      <th>date</th>\n",
       "      <th>impressions</th>\n",
       "    </tr>\n",
       "  </thead>\n",
       "  <tbody>\n",
       "    <tr>\n",
       "      <th>0</th>\n",
       "      <td>2024-10-01</td>\n",
       "      <td>46071</td>\n",
       "    </tr>\n",
       "    <tr>\n",
       "      <th>1</th>\n",
       "      <td>2024-10-02</td>\n",
       "      <td>48455</td>\n",
       "    </tr>\n",
       "    <tr>\n",
       "      <th>2</th>\n",
       "      <td>2024-10-03</td>\n",
       "      <td>47824</td>\n",
       "    </tr>\n",
       "    <tr>\n",
       "      <th>3</th>\n",
       "      <td>2024-10-04</td>\n",
       "      <td>47167</td>\n",
       "    </tr>\n",
       "    <tr>\n",
       "      <th>4</th>\n",
       "      <td>2024-10-05</td>\n",
       "      <td>45529</td>\n",
       "    </tr>\n",
       "    <tr>\n",
       "      <th>5</th>\n",
       "      <td>2024-10-06</td>\n",
       "      <td>25676</td>\n",
       "    </tr>\n",
       "    <tr>\n",
       "      <th>6</th>\n",
       "      <td>2024-10-21</td>\n",
       "      <td>50305</td>\n",
       "    </tr>\n",
       "    <tr>\n",
       "      <th>7</th>\n",
       "      <td>2024-10-22</td>\n",
       "      <td>49112</td>\n",
       "    </tr>\n",
       "    <tr>\n",
       "      <th>8</th>\n",
       "      <td>2024-10-23</td>\n",
       "      <td>48415</td>\n",
       "    </tr>\n",
       "    <tr>\n",
       "      <th>9</th>\n",
       "      <td>2024-10-24</td>\n",
       "      <td>48943</td>\n",
       "    </tr>\n",
       "    <tr>\n",
       "      <th>10</th>\n",
       "      <td>2024-10-25</td>\n",
       "      <td>48557</td>\n",
       "    </tr>\n",
       "    <tr>\n",
       "      <th>11</th>\n",
       "      <td>2024-10-26</td>\n",
       "      <td>48130</td>\n",
       "    </tr>\n",
       "    <tr>\n",
       "      <th>12</th>\n",
       "      <td>2024-10-27</td>\n",
       "      <td>48559</td>\n",
       "    </tr>\n",
       "    <tr>\n",
       "      <th>13</th>\n",
       "      <td>2024-10-28</td>\n",
       "      <td>46673</td>\n",
       "    </tr>\n",
       "    <tr>\n",
       "      <th>14</th>\n",
       "      <td>2024-10-29</td>\n",
       "      <td>46870</td>\n",
       "    </tr>\n",
       "    <tr>\n",
       "      <th>15</th>\n",
       "      <td>2024-10-30</td>\n",
       "      <td>49843</td>\n",
       "    </tr>\n",
       "    <tr>\n",
       "      <th>16</th>\n",
       "      <td>2024-10-31</td>\n",
       "      <td>47806</td>\n",
       "    </tr>\n",
       "  </tbody>\n",
       "</table>\n",
       "</div>"
      ],
      "text/plain": [
       "         date  impressions\n",
       "0  2024-10-01        46071\n",
       "1  2024-10-02        48455\n",
       "2  2024-10-03        47824\n",
       "3  2024-10-04        47167\n",
       "4  2024-10-05        45529\n",
       "5  2024-10-06        25676\n",
       "6  2024-10-21        50305\n",
       "7  2024-10-22        49112\n",
       "8  2024-10-23        48415\n",
       "9  2024-10-24        48943\n",
       "10 2024-10-25        48557\n",
       "11 2024-10-26        48130\n",
       "12 2024-10-27        48559\n",
       "13 2024-10-28        46673\n",
       "14 2024-10-29        46870\n",
       "15 2024-10-30        49843\n",
       "16 2024-10-31        47806"
      ]
     },
     "metadata": {},
     "output_type": "display_data"
    },
    {
     "name": "stdout",
     "output_type": "stream",
     "text": [
      "COMMENTARY for request 2: The impressions show a generally stable trend across the date range, typically fluctuating between 45,000 and 50,000 per day. There's a notable dip to around 25,676 impressions on one day, which appears to be an outlier. Overall, the trend remains relatively consistent with minor daily variations throughout the period observed.\n"
     ]
    }
   ],
   "source": [
    "from concurrent.futures import ThreadPoolExecutor, as_completed\n",
    "import json\n",
    "import time\n",
    "import requests\n",
    "from io import StringIO\n",
    "import pandas as pd\n",
    "\n",
    "url = \"https://api-gateway.prod.miqdigital.com/dna_data_intelligence/dip\"\n",
    "\n",
    "API_GATEWAY_TOKEN = 'eyJvcmciOiI1ZDYzZDVjYzg0Y2E2NTAwMDE0YWRlMTkiLCJpZCI6ImVhOGU0OTg0ZDQ5MzRkZGFiODM3ZGFiYWIwNzBkMzhkIiwiaCI6Im11cm11cjEyOCJ9'\n",
    "headers = {\n",
    "  'api-gateway-token': API_GATEWAY_TOKEN\n",
    "}\n",
    "\n",
    "def send_request(json_input, url, headers):\n",
    "    json_output = json.dumps(json_input, indent=4)\n",
    "    try:\n",
    "        response = requests.request(\"POST\", url, headers=headers, data=json_output)\n",
    "        return response.json() \n",
    "    except Exception as e:\n",
    "        return {\"error\": str(e)} \n",
    "\n",
    "\n",
    "# JSON inputs for the requests\n",
    "json_inputs = [\n",
    "    {\n",
    "        \"s3_uri\": {\"uri\": \"s3://prod-ai-and-automation/Ajay/NinjaCat-Test/\"},\n",
    "        \"query\": {\"query\": \"What is the trend of impressions accross the daterange?\"},\n",
    "        \"uu_id\": {\"uu_id\": \"ninjacat-test\"}\n",
    "    },\n",
    "    {\n",
    "        \"s3_uri\": {\"uri\": \"s3://prod-ai-and-automation/Ajay/NinjaCat-Test/\"},\n",
    "        \"query\": {\"query\": \"What is the day of week CTR?\"},\n",
    "        \"uu_id\": {\"uu_id\": \"ninjacat-test\"}\n",
    "    }\n",
    "]\n",
    "\n",
    "# Use ThreadPoolExecutor to send requests in parallel\n",
    "results = []\n",
    "start_time = time.time()\n",
    "\n",
    "with ThreadPoolExecutor(max_workers=2) as executor:\n",
    "    # Submit tasks to the executor\n",
    "    futures = [executor.submit(send_request, json_input, url, headers) for json_input in json_inputs]\n",
    "    \n",
    "    # Process completed futures\n",
    "    for future in as_completed(futures):\n",
    "        results.append(future.result())\n",
    "\n",
    "# Calculate total time taken\n",
    "end_time = time.time()\n",
    "print(f\"Total time taken: {end_time - start_time:.2f} seconds\")\n",
    "\n",
    "# Process and display results\n",
    "for i, result in enumerate(results):\n",
    "    if \"error\" in result:\n",
    "        print(f\"Error in request {i + 1}: {result['error']}\")\n",
    "    else:\n",
    "        try:\n",
    "            df = pd.read_json(StringIO(result[\"result_df\"]))\n",
    "            display(df)\n",
    "            print(f\"COMMENTARY for request {i + 1}: {result['commentary']}\")\n",
    "        except Exception as e:\n",
    "            print(f\"Failed to process response for request {i + 1}: {e}\")\n"
   ]
  }
 ],
 "metadata": {
  "kernelspec": {
   "display_name": "fastapi",
   "language": "python",
   "name": "python3"
  },
  "language_info": {
   "codemirror_mode": {
    "name": "ipython",
    "version": 3
   },
   "file_extension": ".py",
   "mimetype": "text/x-python",
   "name": "python",
   "nbconvert_exporter": "python",
   "pygments_lexer": "ipython3",
   "version": "3.11.4"
  }
 },
 "nbformat": 4,
 "nbformat_minor": 2
}
